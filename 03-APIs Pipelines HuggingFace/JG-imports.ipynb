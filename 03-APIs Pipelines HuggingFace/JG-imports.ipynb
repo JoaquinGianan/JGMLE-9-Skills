{
 "cells": [
  {
   "cell_type": "code",
   "execution_count": 1,
   "id": "dd8ca316",
   "metadata": {},
   "outputs": [
    {
     "name": "stdout",
     "output_type": "stream",
     "text": [
      "Requirement already satisfied: transformers in /Users/joaquingianantonio/tensor_flow/env2/lib/python3.8/site-packages (4.21.1)\n",
      "Collecting transformers\n",
      "  Downloading transformers-4.21.2-py3-none-any.whl (4.7 MB)\n",
      "\u001b[2K     \u001b[90m━━━━━━━━━━━━━━━━━━━━━━━━━━━━━━━━━━━━━━━━\u001b[0m \u001b[32m4.7/4.7 MB\u001b[0m \u001b[31m26.5 MB/s\u001b[0m eta \u001b[36m0:00:00\u001b[0m00:01\u001b[0m00:01\u001b[0m\n",
      "\u001b[?25hCollecting praw\n",
      "  Downloading praw-7.6.0-py3-none-any.whl (188 kB)\n",
      "\u001b[2K     \u001b[90m━━━━━━━━━━━━━━━━━━━━━━━━━━━━━━━━━━━━━━━\u001b[0m \u001b[32m188.2/188.2 kB\u001b[0m \u001b[31m6.6 MB/s\u001b[0m eta \u001b[36m0:00:00\u001b[0m\n",
      "\u001b[?25hRequirement already satisfied: torch in /Users/joaquingianantonio/tensor_flow/env2/lib/python3.8/site-packages (1.12.1)\n",
      "Requirement already satisfied: numpy in /Users/joaquingianantonio/tensor_flow/env2/lib/python3.8/site-packages (1.23.2)\n",
      "Requirement already satisfied: pandas in /Users/joaquingianantonio/tensor_flow/env2/lib/python3.8/site-packages (1.4.3)\n",
      "Requirement already satisfied: tokenizers!=0.11.3,<0.13,>=0.11.1 in /Users/joaquingianantonio/tensor_flow/env2/lib/python3.8/site-packages (from transformers) (0.12.1)\n",
      "Requirement already satisfied: packaging>=20.0 in /Users/joaquingianantonio/tensor_flow/env2/lib/python3.8/site-packages (from transformers) (21.3)\n",
      "Requirement already satisfied: huggingface-hub<1.0,>=0.1.0 in /Users/joaquingianantonio/tensor_flow/env2/lib/python3.8/site-packages (from transformers) (0.8.1)\n",
      "Requirement already satisfied: pyyaml>=5.1 in /Users/joaquingianantonio/tensor_flow/env2/lib/python3.8/site-packages (from transformers) (6.0)\n",
      "Requirement already satisfied: tqdm>=4.27 in /Users/joaquingianantonio/tensor_flow/env2/lib/python3.8/site-packages (from transformers) (4.64.0)\n",
      "Requirement already satisfied: regex!=2019.12.17 in /Users/joaquingianantonio/tensor_flow/env2/lib/python3.8/site-packages (from transformers) (2022.8.17)\n",
      "Requirement already satisfied: filelock in /Users/joaquingianantonio/tensor_flow/env2/lib/python3.8/site-packages (from transformers) (3.8.0)\n",
      "Requirement already satisfied: requests in /Users/joaquingianantonio/tensor_flow/env2/lib/python3.8/site-packages (from transformers) (2.28.1)\n",
      "Requirement already satisfied: websocket-client>=0.54.0 in /Users/joaquingianantonio/tensor_flow/env2/lib/python3.8/site-packages (from praw) (0.58.0)\n",
      "Collecting prawcore<3,>=2.1\n",
      "  Downloading prawcore-2.3.0-py3-none-any.whl (16 kB)\n",
      "Collecting update-checker>=0.18\n",
      "  Downloading update_checker-0.18.0-py3-none-any.whl (7.0 kB)\n",
      "Requirement already satisfied: typing-extensions in /Users/joaquingianantonio/tensor_flow/env2/lib/python3.8/site-packages (from torch) (4.3.0)\n",
      "Requirement already satisfied: python-dateutil>=2.8.1 in /Users/joaquingianantonio/tensor_flow/env2/lib/python3.8/site-packages (from pandas) (2.8.2)\n",
      "Requirement already satisfied: pytz>=2020.1 in /Users/joaquingianantonio/tensor_flow/env2/lib/python3.8/site-packages (from pandas) (2022.1)\n",
      "Requirement already satisfied: pyparsing!=3.0.5,>=2.0.2 in /Users/joaquingianantonio/tensor_flow/env2/lib/python3.8/site-packages (from packaging>=20.0->transformers) (3.0.9)\n",
      "Requirement already satisfied: six>=1.5 in /Users/joaquingianantonio/tensor_flow/env2/lib/python3.8/site-packages (from python-dateutil>=2.8.1->pandas) (1.15.0)\n",
      "Requirement already satisfied: urllib3<1.27,>=1.21.1 in /Users/joaquingianantonio/tensor_flow/env2/lib/python3.8/site-packages (from requests->transformers) (1.26.11)\n",
      "Requirement already satisfied: idna<4,>=2.5 in /Users/joaquingianantonio/tensor_flow/env2/lib/python3.8/site-packages (from requests->transformers) (3.3)\n",
      "Requirement already satisfied: charset-normalizer<3,>=2 in /Users/joaquingianantonio/tensor_flow/env2/lib/python3.8/site-packages (from requests->transformers) (2.1.0)\n",
      "Requirement already satisfied: certifi>=2017.4.17 in /Users/joaquingianantonio/tensor_flow/env2/lib/python3.8/site-packages (from requests->transformers) (2022.6.15)\n",
      "Installing collected packages: update-checker, prawcore, transformers, praw\n",
      "  Attempting uninstall: transformers\n",
      "    Found existing installation: transformers 4.21.1\n",
      "    Uninstalling transformers-4.21.1:\n",
      "      Successfully uninstalled transformers-4.21.1\n",
      "Successfully installed praw-7.6.0 prawcore-2.3.0 transformers-4.21.2 update-checker-0.18.0\n",
      "Note: you may need to restart the kernel to use updated packages.\n"
     ]
    }
   ],
   "source": [
    "pip install -U transformers praw torch numpy pandas"
   ]
  },
  {
   "cell_type": "code",
   "execution_count": null,
   "id": "99976123",
   "metadata": {},
   "outputs": [],
   "source": []
  },
  {
   "cell_type": "code",
   "execution_count": 1,
   "id": "f9e7c3b5",
   "metadata": {},
   "outputs": [],
   "source": [
    "import transformers\n",
    "import praw\n",
    "import torch\n",
    "import numpy as np\n",
    "import pandas as pd"
   ]
  },
  {
   "cell_type": "code",
   "execution_count": null,
   "id": "dd3d90c1",
   "metadata": {},
   "outputs": [],
   "source": []
  },
  {
   "cell_type": "code",
   "execution_count": null,
   "id": "491c5a09",
   "metadata": {},
   "outputs": [],
   "source": []
  },
  {
   "cell_type": "code",
   "execution_count": null,
   "id": "326659d7",
   "metadata": {},
   "outputs": [],
   "source": []
  },
  {
   "cell_type": "code",
   "execution_count": null,
   "id": "e58c15ba",
   "metadata": {},
   "outputs": [],
   "source": []
  },
  {
   "cell_type": "code",
   "execution_count": null,
   "id": "fd5d59d1",
   "metadata": {},
   "outputs": [],
   "source": []
  },
  {
   "cell_type": "code",
   "execution_count": null,
   "id": "754dd656",
   "metadata": {},
   "outputs": [],
   "source": []
  },
  {
   "cell_type": "code",
   "execution_count": null,
   "id": "b4a32a5c",
   "metadata": {},
   "outputs": [],
   "source": []
  }
 ],
 "metadata": {
  "kernelspec": {
   "display_name": "Python 3 (ipykernel)",
   "language": "python",
   "name": "python3"
  },
  "language_info": {
   "codemirror_mode": {
    "name": "ipython",
    "version": 3
   },
   "file_extension": ".py",
   "mimetype": "text/x-python",
   "name": "python",
   "nbconvert_exporter": "python",
   "pygments_lexer": "ipython3",
   "version": "3.8.13"
  },
  "vscode": {
   "interpreter": {
    "hash": "c57794392b841cffd8686d5c4548e4e2ec78521f49300d60954d1380f1b4bd1f"
   }
  }
 },
 "nbformat": 4,
 "nbformat_minor": 5
}
